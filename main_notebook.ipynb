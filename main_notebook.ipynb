{
 "cells": [
  {
   "cell_type": "code",
   "execution_count": null,
   "source": [
    "#leave this untouched\r\n",
    "#define gsheet_api_check to obtain permission\r\n",
    "import pickle\r\n",
    "import os.path\r\n",
    "from google_auth_oauthlib.flow import InstalledAppFlow\r\n",
    "from google.auth.transport.requests import Request\r\n",
    "def gsheet_api_check(SCOPES):\r\n",
    "    creds = None\r\n",
    "    if os.path.exists('token.pickle'):\r\n",
    "        with open('token.pickle', 'rb') as token:\r\n",
    "            creds = pickle.load(token)\r\n",
    "    if not creds or not creds.valid:\r\n",
    "        if creds and creds.expired and creds.refresh_token:\r\n",
    "            creds.refresh(Request())\r\n",
    "        else:\r\n",
    "            flow = InstalledAppFlow.from_client_secrets_file(\r\n",
    "                'client_secrets.json', SCOPES)\r\n",
    "            creds = flow.run_local_server(port=0)\r\n",
    "        with open('token.pickle', 'wb') as token:\r\n",
    "            pickle.dump(creds, token)\r\n",
    "    return creds"
   ],
   "outputs": [],
   "metadata": {}
  },
  {
   "cell_type": "code",
   "execution_count": null,
   "source": [
    "#leave this untouched\r\n",
    "#define pull_sheet_date to import spreadsheet from google sheets\r\n",
    "from googleapiclient.discovery import build\r\n",
    "def pull_sheet_data(SCOPES,SPREADSHEET_ID,DATA_TO_PULL):\r\n",
    "    creds = gsheet_api_check(SCOPES)\r\n",
    "    service = build('sheets', 'v4', credentials=creds)\r\n",
    "    sheet = service.spreadsheets()\r\n",
    "    result = sheet.values().get(\r\n",
    "        spreadsheetId=SPREADSHEET_ID,\r\n",
    "        range=DATA_TO_PULL).execute()\r\n",
    "    values = result.get('values', [])\r\n",
    "    \r\n",
    "    if not values:\r\n",
    "        print('No data found.')\r\n",
    "    else:\r\n",
    "        rows = sheet.values().get(spreadsheetId=SPREADSHEET_ID,\r\n",
    "                                  range=DATA_TO_PULL).execute()\r\n",
    "        data = rows.get('values')\r\n",
    "        print(\"COMPLETE: Data copied\")\r\n",
    "        return data"
   ],
   "outputs": [],
   "metadata": {}
  },
  {
   "cell_type": "code",
   "execution_count": null,
   "source": [
    "#import the desired spreadsheet from google sheets\r\n",
    "#input the spreadsheet id for the desired spreadsheet\r\n",
    "\r\n",
    "import pandas as pd\r\n",
    "SCOPES = ['https://www.googleapis.com/auth/spreadsheets'] #leave this untouched\r\n",
    "SPREADSHEET_ID = '' #get id from hyperlink and insert here; between \"https://docs.google.com/spreadsheets/d/\" and \"/edit\"\r\n",
    "DATA_TO_PULL = 'Form Responses 1' #name of the tab to read\r\n",
    "data = pull_sheet_data(SCOPES,SPREADSHEET_ID,DATA_TO_PULL)\r\n",
    "df = pd.DataFrame(data[1:], columns=data[0]) #put spreadsheet into dataframe"
   ],
   "outputs": [],
   "metadata": {}
  },
  {
   "cell_type": "code",
   "execution_count": null,
   "source": [
    "#get the last row of spreadsheet\r\n",
    "df2 = df.tail(1)"
   ],
   "outputs": [],
   "metadata": {}
  },
  {
   "cell_type": "code",
   "execution_count": null,
   "source": [
    "#add dataframe into a tab in desired google sheets\r\n",
    "from googleapiclient import discovery\r\n",
    "def append_sheet_data(SCOPES,SPREADSHEET_ID,DATA_TO_PULL):\r\n",
    "    creds = gsheet_api_check(SCOPES)\r\n",
    "    service = build('sheets', 'v4', credentials=creds)\r\n",
    "    sheet = service.spreadsheets()\r\n",
    "    result = sheet.values().append(\r\n",
    "        valueInputOption = 'RAW',\r\n",
    "        spreadsheetId=SPREADSHEET_ID,\r\n",
    "        body = dict(majorDimension = 'ROWS',\r\n",
    "        values = df2.T.reset_index().values.tolist()),\r\n",
    "        range=DATA_TO_APPEND).execute()\r\n",
    "\r\n",
    "SCOPES = ['https://www.googleapis.com/auth/spreadsheets']\r\n",
    "SPREADSHEET_ID = '' #get id from hyperlink and insert here; the code between \"https://docs.google.com/spreadsheets/d/\" and \"/edit\"\r\n",
    "DATA_TO_APPEND = 'Speaker form entry!A6'\r\n",
    "append_sheet_data(SCOPES,SPREADSHEET_ID,DATA_TO_APPEND)\r\n"
   ],
   "outputs": [],
   "metadata": {}
  }
 ],
 "metadata": {
  "kernelspec": {
   "name": "python3",
   "display_name": "Python 3.8.5 64-bit ('base': conda)"
  },
  "language_info": {
   "codemirror_mode": {
    "name": "ipython",
    "version": 3
   },
   "file_extension": ".py",
   "mimetype": "text/x-python",
   "name": "python",
   "nbconvert_exporter": "python",
   "pygments_lexer": "ipython3",
   "version": "3.8.5"
  },
  "interpreter": {
   "hash": "6ace95936c459618905ea2b3f74d825c9e496c546bd771bb7630ab9910e68640"
  }
 },
 "nbformat": 4,
 "nbformat_minor": 5
}